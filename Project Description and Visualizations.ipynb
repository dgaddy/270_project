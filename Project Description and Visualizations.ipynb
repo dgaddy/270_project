{
 "cells": [
  {
   "cell_type": "markdown",
   "metadata": {},
   "source": [
    "# CS270 Final Project\n",
    "\n",
    "#### David Gaddy, Samee Ibraheem, and Daniel Filan\n",
    "\n",
    "## Overview\n",
    "\n",
    "For our project, we implemented a dual decomposition algorithm for machine translation\n",
    "alignments. The alignment process of machine translation tries to find words in one language\n",
    "that correspond to words in another. Typical alignment models are asymmetric, so aligning\n",
    "language 1 to language 2 is not the same as aligning language 2 to language 1, however we\n",
    "would prefer if our alignments agreed in both directions. The paper *Model-Based Aligner\n",
    "Combination Using Dual Decomposition* by John DeNero and Klaus Macherey uses a dual\n",
    "decomposition algorithm to encourage agreement between the two directions. This algorithm\n",
    "allows us to do effecient approximate inference while encouraging agreement by using dual\n",
    "variables from a Lagragian relaxation."
   ]
  },
  {
   "cell_type": "markdown",
   "metadata": {},
   "source": [
    "## Implementation\n",
    "The code for our implementation is in the file `our_align_dual.py`.  In this jupyter notebook, we will demonstrate some results that we got with our implementation.\n",
    "\n",
    "First, let us load a model we trained on an English-Japanese parallel corpus."
   ]
  },
  {
   "cell_type": "code",
   "execution_count": 1,
   "metadata": {
    "collapsed": false
   },
   "outputs": [],
   "source": [
    "from our_align_dual import *\n",
    "\n",
    "t_ef, q_ef = load_model('large_models_jap/ef_model.pkl')\n",
    "t_fe, q_fe = load_model('large_models_jap/fe_model.pkl')"
   ]
  },
  {
   "cell_type": "markdown",
   "metadata": {},
   "source": [
    "### Baseline\n",
    "\n",
    "We have two models, one for each direction English->Japanese and Japanese->English.  Without dual decomposition, we can use each of these directions separately or take the intersection of the alignments suggested by each directional model."
   ]
  },
  {
   "cell_type": "code",
   "execution_count": 3,
   "metadata": {
    "collapsed": false
   },
   "outputs": [
    {
     "name": "stdout",
     "output_type": "stream",
     "text": [
      "intersection over union 0.21021102791014296\n",
      "direction 1\n",
      "Ref=13562\tTest=14241\tMatchRef=5664\tMatchTest=5664\n",
      "Prec=39.77\tRec=41.76\tAER=59.26\n",
      "direction 2\n",
      "Ref=13562\tTest=12426\tMatchRef=5080\tMatchTest=5080\n",
      "Prec=40.88\tRec=37.46\tAER=60.91\n",
      "intersection\n",
      "Ref=13562\tTest=4632\tMatchRef=3578\tMatchTest=3578\n",
      "Prec=77.25\tRec=26.38\tAER=60.67\n"
     ]
    }
   ],
   "source": [
    "test_files = {'en':'data/english-test.txt', 'f':'data/japanese-test.txt'}\n",
    "reverse_output = True\n",
    "\n",
    "en_sent = load_sentences(test_files['en'])\n",
    "f_sent = load_sentences(test_files['f'])\n",
    "\n",
    "dir1_alignments = []\n",
    "dir2_alignments = []\n",
    "intersection_alignments = []\n",
    "union_alignments = []\n",
    "num_intersection = 0\n",
    "num_union = 0\n",
    "for i in range(len(en_sent)):\n",
    "    # aligns each foreign word to the english one\n",
    "    align_ef = align_ibm(en_sent[i], f_sent[i], t_ef, q_ef)\n",
    "    align_ef = filter_null_alignments([(ei,fi) for fi,ei in enumerate(align_ef)])\n",
    "    # aligns each english word to a foreign one\n",
    "    align_fe = align_ibm(f_sent[i], en_sent[i], t_fe, q_fe)\n",
    "    align_fe = filter_null_alignments([(ei,fi) for ei,fi in enumerate(align_fe)])\n",
    "\n",
    "    dir1_alignments.append(align_ef)\n",
    "    dir2_alignments.append(align_fe)\n",
    "\n",
    "    intersection = combine_intersect(align_ef, align_fe)\n",
    "    union = combine_union(align_ef, align_fe)\n",
    "    num_intersection += len(intersection)\n",
    "    num_union += len(union)\n",
    "    intersection_alignments.append(intersection)\n",
    "    union_alignments.append(union)\n",
    "print('intersection over union', num_intersection / num_union)\n",
    "\n",
    "save_alignments(dir1_alignments, 'ibm-align-dir1.txt', reverse_output)\n",
    "save_alignments(dir2_alignments, 'ibm-align-dir2.txt', reverse_output)\n",
    "save_alignments(intersection_alignments, 'ibm-align-intersection.txt', reverse_output)\n",
    "save_alignments(union_alignments, 'ibm-align-union.txt', reverse_output)\n",
    "print('direction 1')\n",
    "!perl measure-alignment-error.pl data/align-test.txt ibm-align-dir1.txt\n",
    "print('direction 2')\n",
    "!perl measure-alignment-error.pl data/align-test.txt ibm-align-dir2.txt\n",
    "print('intersection')\n",
    "!perl measure-alignment-error.pl data/align-test.txt ibm-align-intersection.txt\n"
   ]
  },
  {
   "cell_type": "markdown",
   "metadata": {},
   "source": [
    "The two numbers we will focus on are labeled *intersection over union* and *AER*.  Intersection over union is a metric for how much the alignments agree between the two directions.  Higher is better, and a value of 1 would indicate perfect agreement.  AER, or alignment error rate, is a measure of how much the final alignments agree with alignments annotated by people who know both languages.  Lower AER is better.  The intersected alignment baseline gets an AER of 60.67%."
   ]
  },
  {
   "cell_type": "markdown",
   "metadata": {},
   "source": [
    "### Dual Decomposition\n",
    "\n",
    "Dual decomposition is a method of encouraging alignments from the two different model directions to agree.  It uses Lagrange multipliers to enforce the agreement.  These Lagrange multipliers end up being combined with the model in a way that allows us to run the same inference procedure we would typically use but with slightly modified model probabilities.\n",
    "\n",
    "Let's look at how dual decomposition affects our results:"
   ]
  },
  {
   "cell_type": "code",
   "execution_count": 4,
   "metadata": {
    "collapsed": false
   },
   "outputs": [
    {
     "name": "stdout",
     "output_type": "stream",
     "text": [
      "intersection over union 0.4619582837998487\n",
      "converged 0.06013745704467354\n",
      "Ref=13562\tTest=8549\tMatchRef=4532\tMatchTest=4532\r\n",
      "Prec=53.01\tRec=33.42\tAER=59.01\r\n"
     ]
    }
   ],
   "source": [
    "alignments = []\n",
    "num_converged = 0\n",
    "num_intersection = 0\n",
    "num_union = 0\n",
    "for i in range(len(en_sent)):\n",
    "    intersection, union, converged = align_dual(en_sent[i], f_sent[i], t_ef, t_fe, q_ef, q_fe, 1, 250)\n",
    "    intersection = filter_null_alignments(intersection)\n",
    "    union = filter_null_alignments(union)\n",
    "\n",
    "    num_intersection += len(intersection)\n",
    "    num_union += len(union)\n",
    "    alignments.append(intersection)\n",
    "    if converged:\n",
    "        num_converged += 1\n",
    "print('intersection over union',num_intersection / num_union)\n",
    "print('converged',float(num_converged) / len(en_sent))\n",
    "\n",
    "save_alignments(alignments, 'dual-decomp-intersection.txt', reverse_output)\n",
    "!perl measure-alignment-error.pl data/align-test.txt dual-decomp-intersection.txt\n"
   ]
  },
  {
   "cell_type": "markdown",
   "metadata": {},
   "source": [
    "We can see that the intersection over union increased significantly from .21 to .46, which means that we were successful in encouraging agreement between the two directions.  The AER also improved, which means increasing agreement between the two directions led to better alignments.\n",
    "\n",
    "In other languages, we got the following results for intersection over union and AER:\n",
    "\n",
    "| Language  | original IOU  | IOU with dual decomposition |\n",
    "|-------|-------|----|\n",
    "| Chinese | .24 | .27 |\n",
    "| French (10000 training sentences) | .38 | .60   |\n",
    "\n",
    "| Language  | original AER  | AER with dual decomposition |\n",
    "|-------|-------|----|\n",
    "| Chinese | 55.51 | 50.56 |\n",
    "| French (10000 training sentences) | 36.15 | 36.49   |\n",
    "\n",
    "IOU consistently improves, and AER also significantly improved for Chinese.\n",
    "\n",
    "One thing to note is that the convergence rate, or percentage of time where the two directions completely agree after dual decomposition, is very low.  Dual decomposition is an iterative algorithm, and given infinite time, it should converge 100% of the time.  However, the convergence can be very slow, and we cut off the algorithm after 250 iterations.  Even without having converged, though, we can see that it has significantly increased agreement."
   ]
  },
  {
   "cell_type": "markdown",
   "metadata": {},
   "source": [
    "### Affect of number of iterations\n",
    "\n",
    "To see how the agreement changes with the number of iterations of dual decomposition, we plot the value intersection over union."
   ]
  },
  {
   "cell_type": "code",
   "execution_count": 5,
   "metadata": {
    "collapsed": false,
    "scrolled": true
   },
   "outputs": [
    {
     "data": {
      "text/plain": [
       "[<matplotlib.lines.Line2D at 0x7f0fd01e5860>]"
      ]
     },
     "execution_count": 5,
     "metadata": {},
     "output_type": "execute_result"
    },
    {
     "data": {
      "image/png": "[encoded data removed]",
      "text/plain": [
       "<matplotlib.figure.Figure at 0x7f0f7ebb7048>"
      ]
     },
     "metadata": {},
     "output_type": "display_data"
    }
   ],
   "source": [
    "import matplotlib.pyplot as plt\n",
    "%matplotlib inline\n",
    "\n",
    "en_sent = en_sent[:50] # use a subset of the test set for speed\n",
    "f_sent = f_sent[:50]\n",
    "\n",
    "xs = list(range(10,250,5))\n",
    "values = []\n",
    "for n_iters in xs:\n",
    "    num_intersection = 0\n",
    "    num_union = 0\n",
    "    for i in range(len(en_sent)):\n",
    "        intersection, union, converged = align_dual(en_sent[i], f_sent[i], t_ef, t_fe, q_ef, q_fe, 1, n_iters)\n",
    "        intersection = filter_null_alignments(intersection)\n",
    "        union = filter_null_alignments(union)\n",
    "\n",
    "        num_intersection += len(intersection)\n",
    "        num_union += len(union)\n",
    "        alignments.append(intersection)\n",
    "        if converged:\n",
    "            num_converged += 1\n",
    "    values.append(num_intersection / num_union)\n",
    "\n",
    "plt.plot(xs, values)"
   ]
  },
  {
   "cell_type": "markdown",
   "metadata": {},
   "source": [
    "We can see that most of the increase in agreement happened in the first 100 iterations.  After that, the improvement in agreement flattened out."
   ]
  }
 ],
 "metadata": {
  "anaconda-cloud": {},
  "kernelspec": {
   "display_name": "Python 3",
   "language": "python",
   "name": "python3"
  },
  "language_info": {
   "codemirror_mode": {
    "name": "ipython",
    "version": 3
   },
   "file_extension": ".py",
   "mimetype": "text/x-python",
   "name": "python",
   "nbconvert_exporter": "python",
   "pygments_lexer": "ipython3",
   "version": "3.5.2"
  }
 },
 "nbformat": 4,
 "nbformat_minor": 1
}
